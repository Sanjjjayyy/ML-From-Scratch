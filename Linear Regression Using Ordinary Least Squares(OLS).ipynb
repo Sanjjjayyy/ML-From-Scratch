{
 "cells": [
  {
   "cell_type": "markdown",
   "id": "77277a21",
   "metadata": {},
   "source": [
    "# 📊 Diamonds Price Prediction using Linear and Lasso Regression"
   ]
  },
  {
   "cell_type": "code",
   "execution_count": null,
   "id": "9f2ac789",
   "metadata": {},
   "outputs": [],
   "source": [
    "\n",
    "import pandas as pd\n",
    "import numpy as np\n",
    "import seaborn as sns\n",
    "import matplotlib.pyplot as plt\n",
    "from sklearn.model_selection import train_test_split\n",
    "from sklearn.preprocessing import RobustScaler\n",
    "from sklearn.linear_model import LinearRegression, LassoCV\n",
    "from sklearn.metrics import mean_squared_error, mean_absolute_error, r2_score\n",
    "from scipy.stats import zscore\n"
   ]
  },
  {
   "cell_type": "code",
   "execution_count": null,
   "id": "8e1085e8",
   "metadata": {},
   "outputs": [],
   "source": [
    "\n",
    "# Load dataset\n",
    "df = pd.read_csv('/content/diamonds.csv')\n",
    "df.drop(columns=['Unnamed: 0'], inplace=True)\n",
    "print(df.head())\n"
   ]
  },
  {
   "cell_type": "code",
   "execution_count": null,
   "id": "177c8370",
   "metadata": {},
   "outputs": [],
   "source": [
    "\n",
    "# Check missing values\n",
    "print(df.isnull().sum())\n"
   ]
  },
  {
   "cell_type": "code",
   "execution_count": null,
   "id": "28c10880",
   "metadata": {},
   "outputs": [],
   "source": [
    "\n",
    "# Label Encoding\n",
    "cut_mapping = {'Fair':1, 'Good':2, 'Very Good':3, 'Premium':4, 'Ideal':5}\n",
    "color_mapping = {'J':7, 'I':6, 'H':5, 'G':4, 'F':3, 'E':2, 'D':1}\n",
    "clarity_mapping = {'I1':8, 'SI2':7, 'SI1':6, 'VS2':5, 'VS1':4, 'VVS2':3, 'VVS1':2, 'IF':1}\n",
    "\n",
    "df['cut'] = df['cut'].map(cut_mapping)\n",
    "df['color'] = df['color'].map(color_mapping)\n",
    "df['clarity'] = df['clarity'].map(clarity_mapping)\n"
   ]
  },
  {
   "cell_type": "code",
   "execution_count": null,
   "id": "cbfe4d9f",
   "metadata": {},
   "outputs": [],
   "source": [
    "\n",
    "plt.figure(figsize=(10,8))\n",
    "sns.heatmap(df.corr(), annot=True, cmap='coolwarm')\n",
    "plt.title('Correlation Heatmap')\n",
    "plt.show()\n"
   ]
  },
  {
   "cell_type": "code",
   "execution_count": null,
   "id": "9b24c97f",
   "metadata": {},
   "outputs": [],
   "source": [
    "\n",
    "# Log-transform carat and price\n",
    "df['log_carat'] = np.log1p(df['carat'])\n",
    "df['log_price'] = np.log1p(df['price'])\n",
    "df.drop(columns=['carat', 'price'], inplace=True)\n",
    "\n",
    "# Remove outliers from depth and table\n",
    "z_scores = df[['depth', 'table']].apply(zscore)\n",
    "df_clean = df[(z_scores.abs() < 3).all(axis=1)]\n"
   ]
  },
  {
   "cell_type": "code",
   "execution_count": null,
   "id": "81752e64",
   "metadata": {},
   "outputs": [],
   "source": [
    "\n",
    "X = df_clean.drop(columns=['log_price'])\n",
    "y = df_clean['log_price']\n",
    "\n",
    "X_train, X_test, y_train, y_test = train_test_split(X, y, test_size=0.3, random_state=42)\n"
   ]
  },
  {
   "cell_type": "code",
   "execution_count": null,
   "id": "f50e0e4d",
   "metadata": {},
   "outputs": [],
   "source": [
    "\n",
    "scaler = RobustScaler()\n",
    "X_train_scaled = scaler.fit_transform(X_train)\n",
    "X_test_scaled = scaler.transform(X_test)\n"
   ]
  },
  {
   "cell_type": "code",
   "execution_count": null,
   "id": "7392d25b",
   "metadata": {},
   "outputs": [],
   "source": [
    "\n",
    "linear = LinearRegression()\n",
    "linear.fit(X_train_scaled, y_train)\n",
    "\n",
    "y_pred_log_linear = linear.predict(X_test_scaled)\n",
    "y_pred_linear = np.expm1(y_pred_log_linear)  # Reverse log1p\n",
    "y_true = np.expm1(y_test)\n",
    "\n",
    "# Metrics\n",
    "linear_mse = mean_squared_error(y_true, y_pred_linear)\n",
    "linear_mae = mean_absolute_error(y_true, y_pred_linear)\n",
    "linear_r2 = r2_score(y_true, y_pred_linear)\n",
    "\n",
    "print(f\"Linear Regression -> MSE: {linear_mse:.2f}, MAE: {linear_mae:.2f}, R2: {linear_r2:.4f}\")\n"
   ]
  },
  {
   "cell_type": "code",
   "execution_count": null,
   "id": "a2cee639",
   "metadata": {},
   "outputs": [],
   "source": [
    "\n",
    "plt.scatter(y_true, y_pred_linear, alpha=0.5)\n",
    "plt.xlabel('True Price')\n",
    "plt.ylabel('Predicted Price')\n",
    "plt.title('Linear Regression: True vs Predicted Prices')\n",
    "plt.plot([y_true.min(), y_true.max()], [y_true.min(), y_true.max()], 'r--')\n",
    "plt.show()\n"
   ]
  },
  {
   "cell_type": "code",
   "execution_count": null,
   "id": "5ae95637",
   "metadata": {},
   "outputs": [],
   "source": [
    "\n",
    "lasso = LassoCV(cv=5, random_state=42)\n",
    "lasso.fit(X_train_scaled, y_train)\n",
    "\n",
    "y_pred_log_lasso = lasso.predict(X_test_scaled)\n",
    "y_pred_lasso = np.expm1(y_pred_log_lasso)\n",
    "\n",
    "# Metrics\n",
    "lasso_mse = mean_squared_error(y_true, y_pred_lasso)\n",
    "lasso_mae = mean_absolute_error(y_true, y_pred_lasso)\n",
    "lasso_r2 = r2_score(y_true, y_pred_lasso)\n",
    "\n",
    "print(f\"Lasso Regression -> MSE: {lasso_mse:.2f}, MAE: {lasso_mae:.2f}, R2: {lasso_r2:.4f}\")\n"
   ]
  },
  {
   "cell_type": "code",
   "execution_count": null,
   "id": "701b6884",
   "metadata": {},
   "outputs": [],
   "source": [
    "\n",
    "plt.scatter(y_true, y_pred_lasso, alpha=0.5)\n",
    "plt.xlabel('True Price')\n",
    "plt.ylabel('Predicted Price')\n",
    "plt.title('Lasso Regression: True vs Predicted Prices')\n",
    "plt.plot([y_true.min(), y_true.max()], [y_true.min(), y_true.max()], 'r--')\n",
    "plt.show()\n"
   ]
  },
  {
   "cell_type": "code",
   "execution_count": null,
   "id": "1ad02cf1",
   "metadata": {},
   "outputs": [],
   "source": [
    "\n",
    "comparison = pd.DataFrame({\n",
    "    'Model': ['Linear Regression', 'Lasso Regression'],\n",
    "    'MSE': [linear_mse, lasso_mse],\n",
    "    'MAE': [linear_mae, lasso_mae],\n",
    "    'R2 Score': [linear_r2, lasso_r2]\n",
    "})\n",
    "print(comparison)\n"
   ]
  }
 ],
 "metadata": {
  "kernelspec": {
   "display_name": "base",
   "language": "python",
   "name": "python3"
  },
  "language_info": {
   "name": "python",
   "version": "3.12.4"
  }
 },
 "nbformat": 4,
 "nbformat_minor": 5
}
